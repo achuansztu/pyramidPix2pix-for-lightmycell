{
 "cells": [
  {
   "cell_type": "code",
   "execution_count": 1,
   "id": "17a4406b-e54c-4970-8223-cd31ec09a09b",
   "metadata": {
    "tags": []
   },
   "outputs": [
    {
     "ename": "ModuleNotFoundError",
     "evalue": "No module named 'dominate'",
     "output_type": "error",
     "traceback": [
      "\u001b[0;31m---------------------------------------------------------------------------\u001b[0m",
      "\u001b[0;31mModuleNotFoundError\u001b[0m                       Traceback (most recent call last)",
      "Cell \u001b[0;32mIn[1], line 24\u001b[0m\n\u001b[1;32m     22\u001b[0m \u001b[38;5;28;01mfrom\u001b[39;00m \u001b[38;5;21;01mdata\u001b[39;00m \u001b[38;5;28;01mimport\u001b[39;00m create_dataset\n\u001b[1;32m     23\u001b[0m \u001b[38;5;28;01mfrom\u001b[39;00m \u001b[38;5;21;01mmodels\u001b[39;00m \u001b[38;5;28;01mimport\u001b[39;00m create_model\n\u001b[0;32m---> 24\u001b[0m \u001b[38;5;28;01mfrom\u001b[39;00m \u001b[38;5;21;01mutil\u001b[39;00m\u001b[38;5;21;01m.\u001b[39;00m\u001b[38;5;21;01mvisualizer\u001b[39;00m \u001b[38;5;28;01mimport\u001b[39;00m Visualizer\n\u001b[1;32m     25\u001b[0m \u001b[38;5;66;03m# from tensorboardX import SummaryWriter\u001b[39;00m\n\u001b[1;32m     26\u001b[0m \u001b[38;5;66;03m# import torch\u001b[39;00m\n\u001b[1;32m     28\u001b[0m \u001b[38;5;28;01mif\u001b[39;00m \u001b[38;5;18m__name__\u001b[39m \u001b[38;5;241m==\u001b[39m \u001b[38;5;124m'\u001b[39m\u001b[38;5;124m__main__\u001b[39m\u001b[38;5;124m'\u001b[39m:\n",
      "File \u001b[0;32m/mnt/data0/ISBI2024/Mycell_common_data/pyramidPix2pix_for_lmc/pyramidPix2pix_for_lmc/util/visualizer.py:6\u001b[0m\n\u001b[1;32m      4\u001b[0m \u001b[38;5;28;01mimport\u001b[39;00m \u001b[38;5;21;01mntpath\u001b[39;00m\n\u001b[1;32m      5\u001b[0m \u001b[38;5;28;01mimport\u001b[39;00m \u001b[38;5;21;01mtime\u001b[39;00m\n\u001b[0;32m----> 6\u001b[0m \u001b[38;5;28;01mfrom\u001b[39;00m \u001b[38;5;21;01m.\u001b[39;00m \u001b[38;5;28;01mimport\u001b[39;00m util, html\n\u001b[1;32m      7\u001b[0m \u001b[38;5;28;01mfrom\u001b[39;00m \u001b[38;5;21;01msubprocess\u001b[39;00m \u001b[38;5;28;01mimport\u001b[39;00m Popen, PIPE\n\u001b[1;32m     10\u001b[0m \u001b[38;5;28;01mif\u001b[39;00m sys\u001b[38;5;241m.\u001b[39mversion_info[\u001b[38;5;241m0\u001b[39m] \u001b[38;5;241m==\u001b[39m \u001b[38;5;241m2\u001b[39m:\n",
      "File \u001b[0;32m/mnt/data0/ISBI2024/Mycell_common_data/pyramidPix2pix_for_lmc/pyramidPix2pix_for_lmc/util/html.py:1\u001b[0m\n\u001b[0;32m----> 1\u001b[0m \u001b[38;5;28;01mimport\u001b[39;00m \u001b[38;5;21;01mdominate\u001b[39;00m\n\u001b[1;32m      2\u001b[0m \u001b[38;5;28;01mfrom\u001b[39;00m \u001b[38;5;21;01mdominate\u001b[39;00m\u001b[38;5;21;01m.\u001b[39;00m\u001b[38;5;21;01mtags\u001b[39;00m \u001b[38;5;28;01mimport\u001b[39;00m meta, h3, table, tr, td, p, a, img, br\n\u001b[1;32m      3\u001b[0m \u001b[38;5;28;01mimport\u001b[39;00m \u001b[38;5;21;01mos\u001b[39;00m\n",
      "\u001b[0;31mModuleNotFoundError\u001b[0m: No module named 'dominate'"
     ]
    }
   ],
   "source": [
    "\"\"\"\n",
    "该脚本适用于各种模型（使用选项'--model'：例如，pix2pix、cyclegan、colorization）和不同的数据集（使用选项'--dataset_mode'：例如，aligned、unaligned、single、colorization）。\n",
    "您需要指定数据集（'--dataroot'）、实验名称（'--name'）和模型（'--model'）。\n",
    "\n",
    "它首先根据选项创建模型、数据集和可视化器。\n",
    "然后进行标准网络训练。在训练过程中，它还可视化/保存图像，打印/保存损失图，并保存模型。\n",
    "该脚本支持继续/恢复训练。使用'--continue_train'来恢复之前的训练。\n",
    "\n",
    "示例:\n",
    "    训练CycleGAN模型:\n",
    "        python train.py --dataroot ./datasets/maps --name maps_cyclegan --model cycle_gan\n",
    "    训练pix2pix模型:\n",
    "        python train.py --dataroot ./datasets/facades --name facades_pix2pix --model pix2pix --direction BtoA\n",
    "\n",
    "查看 options/base_options.py 和 options/train_options.py 了解更多训练选项。\n",
    "在此查看训练和测试技巧: https://github.com/junyanz/pytorch-CycleGAN-and-pix2pix/blob/master/docs/tips.md\n",
    "在此查看常见问题: https://github.com/junyanz/pytorch-CycleGAN-and-pix2pix/blob/master/docs/qa.md\n",
    "\"\"\"\n",
    "\n",
    "import time\n",
    "from options.train_options import TrainOptions\n",
    "from data import create_dataset\n",
    "from models import create_model\n",
    "from util.visualizer import Visualizer\n",
    "# from tensorboardX import SummaryWriter\n",
    "# import torch\n",
    "\n",
    "if __name__ == '__main__':\n",
    "    opt = TrainOptions().parse()   # 获取训练选项\n",
    "    dataset = create_dataset(opt)  # 根据 opt.dataset_mode 和其他选项创建数据集\n",
    "    dataset_size = len(dataset)    # 获取数据集中图像的数量\n",
    "    print('训练图像数量 = %d' % dataset_size)\n",
    "\n",
    "    model = create_model(opt)      # 根据 opt.model 和其他选项创建模型\n",
    "    # tensor_input = torch.rand(8, 3, 256, 256)\n",
    "    # with SummaryWriter('graph/perc') as w:\n",
    "    #     w.add_graph(model, (tensor_input, ))\n",
    "    model.setup(opt)               # 常规设置：加载并打印网络；创建调度器\n",
    "    visualizer = Visualizer(opt)   # 创建一个可视化器来显示/保存图像和图表\n",
    "    total_iters = 0                # 训练迭代总数\n",
    "\n",
    "    for epoch in range(opt.epoch_count, opt.n_epochs + opt.n_epochs_decay + 1):    # 外部循环不同的 epochs；我们通过 <epoch_count>, <epoch_count>+<save_latest_freq> 保存模型\n",
    "        epoch_start_time = time.time()  # 计时器，记录整个 epoch 的时间\n",
    "        iter_data_time = time.time()    # 计时器，记录数据加载的时间\n",
    "        epoch_iter = 0                  # 当前 epoch 中的训练迭代数，在每个 epoch 开始时重置为 0\n",
    "        visualizer.reset()              # 重置可视化器：确保它至少每个 epoch 保存一次结果到 HTML\n",
    "        model.update_learning_rate()    # 在每个 epoch 开始时更新学习率\n",
    "        for i, data in enumerate(dataset):  # 内部循环每个 epoch 中的每个迭代\n",
    "            iter_start_time = time.time()  # 计时器，记录每个迭代的计算时间\n",
    "            if total_iters % opt.print_freq == 0:\n",
    "                t_data = iter_start_time - iter_data_time\n",
    "\n",
    "            total_iters += opt.batch_size\n",
    "            epoch_iter += opt.batch_size\n",
    "            model.set_input(data)         # 从数据集中解压数据并应用预处理\n",
    "            model.optimize_parameters()   # 计算损失函数、获取梯度、更新网络权重\n",
    "\n",
    "            if total_iters % opt.display_freq == 0:   # 在 visdom 上显示图像并保存图像到 HTML 文件\n",
    "                save_result = total_iters % opt.update_html_freq == 0\n",
    "                model.compute_visuals()\n",
    "                visualizer.display_current_results(model.get_current_visuals(), epoch, save_result)\n",
    "\n",
    "            if total_iters % opt.print_freq == 0:    # 打印训练损失并将日志信息保存到磁盘上\n",
    "                losses = model.get_current_losses()\n",
    "                t_comp = (time.time() - iter_start_time) / opt.batch_size\n",
    "                visualizer.print_current_losses(epoch, epoch_iter, losses, t_comp, t_data)\n",
    "                if opt.display_id > 0:\n",
    "                    visualizer.plot_current_losses(epoch, float(epoch_iter) / dataset_size, losses)\n",
    "\n",
    "            if total_iters % opt.save_latest_freq == 0:   # 每 <save_latest_freq> 迭代缓存最新模型\n",
    "                print('保存最新模型 (epoch %d, total_iters %d)' % (epoch, total_iters))\n",
    "                save_suffix = 'iter_%d' % total_iters if opt.save_by_iter else 'latest'\n",
    "                model.save_networks(save_suffix)\n",
    "\n",
    "            iter_data_time = time.time()\n",
    "        if epoch % opt.save_epoch_freq == 0:              # 每 <save_epoch_freq> epochs 缓存我们的模型\n",
    "            print('在 epoch %d 结束时保存模型，迭代数 %d' % (epoch, total_iters))\n",
    "            model.save_networks('latest')\n",
    "            model.save_networks(epoch)\n",
    "\n",
    "        print('epoch %d / %d 结束 \\t 用时: %d 秒' % (epoch, opt.n_epochs + opt.n_epochs_decay, time.time() - epoch_start_time))\n"
   ]
  },
  {
   "cell_type": "code",
   "execution_count": null,
   "id": "02e23879-b1e8-4498-a371-7516990405bd",
   "metadata": {},
   "outputs": [],
   "source": []
  }
 ],
 "metadata": {
  "kernelspec": {
   "display_name": "Python 3 (ipykernel)",
   "language": "python",
   "name": "python3"
  },
  "language_info": {
   "codemirror_mode": {
    "name": "ipython",
    "version": 3
   },
   "file_extension": ".py",
   "mimetype": "text/x-python",
   "name": "python",
   "nbconvert_exporter": "python",
   "pygments_lexer": "ipython3",
   "version": "3.9.7"
  }
 },
 "nbformat": 4,
 "nbformat_minor": 5
}
